{
  "cells": [
    {
      "cell_type": "markdown",
      "source": [
        "DEEP LEARNING"
      ],
      "metadata": {
        "id": "u0x1kzmX6aq2"
      }
    },
    {
      "cell_type": "code",
      "execution_count": null,
      "metadata": {
        "colab": {
          "base_uri": "https://localhost:8080/"
        },
        "id": "l6IS_wzrLlNK",
        "outputId": "15b8a174-748c-469b-a8eb-f380f1d325ab"
      },
      "outputs": [
        {
          "name": "stdout",
          "output_type": "stream",
          "text": [
            "Mounted at /content/drive\n"
          ]
        }
      ],
      "source": [
        "from google.colab import drive\n",
        "drive.mount('/content/drive')"
      ]
    },
    {
      "cell_type": "code",
      "execution_count": null,
      "metadata": {
        "id": "bPQnjmrkKpft"
      },
      "outputs": [],
      "source": [
        "import pandas as pd\n",
        "from sklearn.model_selection import train_test_split\n",
        "from sklearn.preprocessing import LabelEncoder\n",
        "import numpy as np\n",
        "\n",
        "# Load the dataset (replace with your dataset path)\n",
        "df=pd.read_csv(\"/content/drive/MyDrive/balanced_malicious_phish.csv\")\n",
        "\n"
      ]
    },
    {
      "cell_type": "code",
      "execution_count": null,
      "metadata": {
        "colab": {
          "base_uri": "https://localhost:8080/"
        },
        "id": "xhvDOECcLZ9i",
        "outputId": "f4deee99-da43-4bc2-ae31-23f51d22c7d1"
      },
      "outputs": [
        {
          "name": "stdout",
          "output_type": "stream",
          "text": [
            "Epoch 1/20\n"
          ]
        },
        {
          "name": "stderr",
          "output_type": "stream",
          "text": [
            "/usr/local/lib/python3.10/dist-packages/keras/src/layers/core/embedding.py:90: UserWarning: Argument `input_length` is deprecated. Just remove it.\n",
            "  warnings.warn(\n"
          ]
        },
        {
          "name": "stdout",
          "output_type": "stream",
          "text": [
            "\u001b[1m125/125\u001b[0m \u001b[32m━━━━━━━━━━━━━━━━━━━━\u001b[0m\u001b[37m\u001b[0m \u001b[1m52s\u001b[0m 384ms/step - accuracy: 0.4370 - loss: 1.2501 - val_accuracy: 0.7520 - val_loss: 0.6607\n",
            "Epoch 2/20\n",
            "\u001b[1m125/125\u001b[0m \u001b[32m━━━━━━━━━━━━━━━━━━━━\u001b[0m\u001b[37m\u001b[0m \u001b[1m82s\u001b[0m 382ms/step - accuracy: 0.7045 - loss: 0.7365 - val_accuracy: 0.7430 - val_loss: 0.6297\n",
            "Epoch 3/20\n",
            "\u001b[1m125/125\u001b[0m \u001b[32m━━━━━━━━━━━━━━━━━━━━\u001b[0m\u001b[37m\u001b[0m \u001b[1m83s\u001b[0m 386ms/step - accuracy: 0.7286 - loss: 0.6625 - val_accuracy: 0.7780 - val_loss: 0.5212\n",
            "Epoch 4/20\n",
            "\u001b[1m125/125\u001b[0m \u001b[32m━━━━━━━━━━━━━━━━━━━━\u001b[0m\u001b[37m\u001b[0m \u001b[1m81s\u001b[0m 381ms/step - accuracy: 0.7633 - loss: 0.5924 - val_accuracy: 0.7945 - val_loss: 0.5022\n",
            "Epoch 5/20\n",
            "\u001b[1m125/125\u001b[0m \u001b[32m━━━━━━━━━━━━━━━━━━━━\u001b[0m\u001b[37m\u001b[0m \u001b[1m82s\u001b[0m 378ms/step - accuracy: 0.7756 - loss: 0.5609 - val_accuracy: 0.8240 - val_loss: 0.4660\n",
            "Epoch 6/20\n",
            "\u001b[1m125/125\u001b[0m \u001b[32m━━━━━━━━━━━━━━━━━━━━\u001b[0m\u001b[37m\u001b[0m \u001b[1m85s\u001b[0m 403ms/step - accuracy: 0.7971 - loss: 0.5343 - val_accuracy: 0.8335 - val_loss: 0.4468\n",
            "Epoch 7/20\n",
            "\u001b[1m125/125\u001b[0m \u001b[32m━━━━━━━━━━━━━━━━━━━━\u001b[0m\u001b[37m\u001b[0m \u001b[1m79s\u001b[0m 380ms/step - accuracy: 0.8322 - loss: 0.4760 - val_accuracy: 0.8485 - val_loss: 0.4180\n",
            "Epoch 8/20\n",
            "\u001b[1m125/125\u001b[0m \u001b[32m━━━━━━━━━━━━━━━━━━━━\u001b[0m\u001b[37m\u001b[0m \u001b[1m82s\u001b[0m 380ms/step - accuracy: 0.8328 - loss: 0.4879 - val_accuracy: 0.8410 - val_loss: 0.4165\n",
            "Epoch 9/20\n",
            "\u001b[1m125/125\u001b[0m \u001b[32m━━━━━━━━━━━━━━━━━━━━\u001b[0m\u001b[37m\u001b[0m \u001b[1m48s\u001b[0m 383ms/step - accuracy: 0.8442 - loss: 0.4391 - val_accuracy: 0.8555 - val_loss: 0.3924\n",
            "Epoch 10/20\n",
            "\u001b[1m125/125\u001b[0m \u001b[32m━━━━━━━━━━━━━━━━━━━━\u001b[0m\u001b[37m\u001b[0m \u001b[1m81s\u001b[0m 379ms/step - accuracy: 0.8483 - loss: 0.4301 - val_accuracy: 0.8695 - val_loss: 0.3570\n",
            "Epoch 11/20\n",
            "\u001b[1m125/125\u001b[0m \u001b[32m━━━━━━━━━━━━━━━━━━━━\u001b[0m\u001b[37m\u001b[0m \u001b[1m83s\u001b[0m 392ms/step - accuracy: 0.8576 - loss: 0.3899 - val_accuracy: 0.8730 - val_loss: 0.3649\n",
            "Epoch 12/20\n",
            "\u001b[1m125/125\u001b[0m \u001b[32m━━━━━━━━━━━━━━━━━━━━\u001b[0m\u001b[37m\u001b[0m \u001b[1m84s\u001b[0m 404ms/step - accuracy: 0.8550 - loss: 0.4225 - val_accuracy: 0.8765 - val_loss: 0.3431\n",
            "Epoch 13/20\n",
            "\u001b[1m125/125\u001b[0m \u001b[32m━━━━━━━━━━━━━━━━━━━━\u001b[0m\u001b[37m\u001b[0m \u001b[1m79s\u001b[0m 381ms/step - accuracy: 0.8693 - loss: 0.3820 - val_accuracy: 0.8840 - val_loss: 0.3279\n",
            "Epoch 14/20\n",
            "\u001b[1m125/125\u001b[0m \u001b[32m━━━━━━━━━━━━━━━━━━━━\u001b[0m\u001b[37m\u001b[0m \u001b[1m82s\u001b[0m 382ms/step - accuracy: 0.8704 - loss: 0.3582 - val_accuracy: 0.8740 - val_loss: 0.3428\n",
            "Epoch 15/20\n",
            "\u001b[1m125/125\u001b[0m \u001b[32m━━━━━━━━━━━━━━━━━━━━\u001b[0m\u001b[37m\u001b[0m \u001b[1m48s\u001b[0m 385ms/step - accuracy: 0.8859 - loss: 0.3528 - val_accuracy: 0.8915 - val_loss: 0.3078\n",
            "Epoch 16/20\n",
            "\u001b[1m125/125\u001b[0m \u001b[32m━━━━━━━━━━━━━━━━━━━━\u001b[0m\u001b[37m\u001b[0m \u001b[1m82s\u001b[0m 382ms/step - accuracy: 0.8857 - loss: 0.3307 - val_accuracy: 0.8860 - val_loss: 0.3261\n",
            "Epoch 17/20\n",
            "\u001b[1m125/125\u001b[0m \u001b[32m━━━━━━━━━━━━━━━━━━━━\u001b[0m\u001b[37m\u001b[0m \u001b[1m83s\u001b[0m 392ms/step - accuracy: 0.8922 - loss: 0.3138 - val_accuracy: 0.8835 - val_loss: 0.3250\n",
            "Epoch 18/20\n",
            "\u001b[1m125/125\u001b[0m \u001b[32m━━━━━━━━━━━━━━━━━━━━\u001b[0m\u001b[37m\u001b[0m \u001b[1m81s\u001b[0m 383ms/step - accuracy: 0.8887 - loss: 0.3235 - val_accuracy: 0.8960 - val_loss: 0.3029\n",
            "Epoch 19/20\n",
            "\u001b[1m125/125\u001b[0m \u001b[32m━━━━━━━━━━━━━━━━━━━━\u001b[0m\u001b[37m\u001b[0m \u001b[1m83s\u001b[0m 389ms/step - accuracy: 0.9014 - loss: 0.2934 - val_accuracy: 0.9015 - val_loss: 0.2937\n",
            "Epoch 20/20\n",
            "\u001b[1m125/125\u001b[0m \u001b[32m━━━━━━━━━━━━━━━━━━━━\u001b[0m\u001b[37m\u001b[0m \u001b[1m48s\u001b[0m 387ms/step - accuracy: 0.9016 - loss: 0.2900 - val_accuracy: 0.9005 - val_loss: 0.2897\n",
            "\u001b[1m63/63\u001b[0m \u001b[32m━━━━━━━━━━━━━━━━━━━━\u001b[0m\u001b[37m\u001b[0m \u001b[1m5s\u001b[0m 72ms/step - accuracy: 0.8986 - loss: 0.2900\n",
            "Test Accuracy: 90.05%\n"
          ]
        }
      ],
      "source": [
        "#with fine tuning\n",
        "import tensorflow as tf\n",
        "from tensorflow.keras.models import Sequential\n",
        "from tensorflow.keras.layers import Dense, Dropout, Embedding, LSTM, GlobalMaxPooling1D, Bidirectional\n",
        "from tensorflow.keras.preprocessing.text import Tokenizer\n",
        "from tensorflow.keras.preprocessing.sequence import pad_sequences\n",
        "from tensorflow.keras.callbacks import EarlyStopping\n",
        "from sklearn.model_selection import train_test_split\n",
        "from sklearn.preprocessing import LabelEncoder\n",
        "\n",
        "# Example dataset with URL text and labels\n",
        "# Assuming 'df' is already defined with 'url' and 'type' columns\n",
        "\n",
        "# Tokenizing the URLs\n",
        "tokenizer = Tokenizer(char_level=True)  # Treat URLs as character-level sequences\n",
        "tokenizer.fit_on_texts(df['url'])\n",
        "\n",
        "# Convert URLs into sequences of integers\n",
        "X = tokenizer.texts_to_sequences(df['url'])\n",
        "max_len = 100  # Maximum length of a URL sequence\n",
        "X = pad_sequences(X, maxlen=max_len)\n",
        "\n",
        "# Label encoding\n",
        "le = LabelEncoder()\n",
        "y = le.fit_transform(df['type'])\n",
        "\n",
        "# Split into training and testing sets\n",
        "X_train, X_test, y_train, y_test = train_test_split(X, y, test_size=0.2, random_state=42)\n",
        "\n",
        "# Build the deep learning model with LSTM\n",
        "model = Sequential()\n",
        "\n",
        "# Embedding layer to learn representations of characters in URLs\n",
        "model.add(Embedding(input_dim=len(tokenizer.word_index) + 1, output_dim=64, input_length=max_len))\n",
        "\n",
        "# Bidirectional LSTM layer to capture sequential patterns in the URLs\n",
        "model.add(Bidirectional(LSTM(128, return_sequences=True)))\n",
        "model.add(GlobalMaxPooling1D())  # Aggregate the most important features\n",
        "\n",
        "# Dense layers for classification\n",
        "model.add(Dense(128, activation='relu'))\n",
        "model.add(Dropout(0.5))\n",
        "model.add(Dense(64, activation='relu'))\n",
        "model.add(Dropout(0.5))\n",
        "\n",
        "# Output layer for multi-class classification (4 classes)\n",
        "model.add(Dense(4, activation='softmax'))\n",
        "\n",
        "# Compile the model with a lower learning rate\n",
        "model.compile(optimizer=tf.keras.optimizers.Adam(learning_rate=0.0005),\n",
        "              loss='sparse_categorical_crossentropy',\n",
        "              metrics=['accuracy'])\n",
        "\n",
        "# Implement early stopping to prevent overfitting\n",
        "early_stopping = EarlyStopping(monitor='val_loss', patience=3, restore_best_weights=True)\n",
        "\n",
        "# Train the model\n",
        "history = model.fit(X_train, y_train, epochs=20, batch_size=64,\n",
        "                    validation_data=(X_test, y_test),\n",
        "                    callbacks=[early_stopping])\n",
        "\n",
        "# Evaluate the model\n",
        "score = model.evaluate(X_test, y_test)\n",
        "print(f\"Test Accuracy: {score[1] * 100:.2f}%\")"
      ]
    },
    {
      "cell_type": "code",
      "execution_count": null,
      "metadata": {
        "colab": {
          "base_uri": "https://localhost:8080/"
        },
        "id": "4xQ3lPagav4n",
        "outputId": "63476e0e-ce2e-438e-b2f0-64367ac688ea"
      },
      "outputs": [
        {
          "name": "stdout",
          "output_type": "stream",
          "text": [
            "Epoch 1/20\n"
          ]
        },
        {
          "name": "stderr",
          "output_type": "stream",
          "text": [
            "/usr/local/lib/python3.10/dist-packages/keras/src/layers/core/embedding.py:90: UserWarning: Argument `input_length` is deprecated. Just remove it.\n",
            "  warnings.warn(\n"
          ]
        },
        {
          "name": "stdout",
          "output_type": "stream",
          "text": [
            "\u001b[1m125/125\u001b[0m \u001b[32m━━━━━━━━━━━━━━━━━━━━\u001b[0m\u001b[37m\u001b[0m \u001b[1m54s\u001b[0m 390ms/step - accuracy: 0.3698 - loss: 1.3029 - val_accuracy: 0.7070 - val_loss: 0.6908\n",
            "Epoch 2/20\n",
            "\u001b[1m125/125\u001b[0m \u001b[32m━━━━━━━━━━━━━━━━━━━━\u001b[0m\u001b[37m\u001b[0m \u001b[1m48s\u001b[0m 382ms/step - accuracy: 0.6774 - loss: 0.7874 - val_accuracy: 0.7325 - val_loss: 0.6340\n",
            "Epoch 3/20\n",
            "\u001b[1m125/125\u001b[0m \u001b[32m━━━━━━━━━━━━━━━━━━━━\u001b[0m\u001b[37m\u001b[0m \u001b[1m48s\u001b[0m 381ms/step - accuracy: 0.7344 - loss: 0.6811 - val_accuracy: 0.7845 - val_loss: 0.5481\n",
            "Epoch 4/20\n",
            "\u001b[1m125/125\u001b[0m \u001b[32m━━━━━━━━━━━━━━━━━━━━\u001b[0m\u001b[37m\u001b[0m \u001b[1m82s\u001b[0m 382ms/step - accuracy: 0.7480 - loss: 0.6238 - val_accuracy: 0.7850 - val_loss: 0.5193\n",
            "Epoch 5/20\n",
            "\u001b[1m125/125\u001b[0m \u001b[32m━━━━━━━━━━━━━━━━━━━━\u001b[0m\u001b[37m\u001b[0m \u001b[1m55s\u001b[0m 440ms/step - accuracy: 0.7663 - loss: 0.5889 - val_accuracy: 0.8020 - val_loss: 0.4866\n",
            "Epoch 6/20\n",
            "\u001b[1m125/125\u001b[0m \u001b[32m━━━━━━━━━━━━━━━━━━━━\u001b[0m\u001b[37m\u001b[0m \u001b[1m75s\u001b[0m 384ms/step - accuracy: 0.7896 - loss: 0.5378 - val_accuracy: 0.8230 - val_loss: 0.4627\n",
            "Epoch 7/20\n",
            "\u001b[1m125/125\u001b[0m \u001b[32m━━━━━━━━━━━━━━━━━━━━\u001b[0m\u001b[37m\u001b[0m \u001b[1m82s\u001b[0m 386ms/step - accuracy: 0.8101 - loss: 0.5029 - val_accuracy: 0.8350 - val_loss: 0.4431\n",
            "Epoch 8/20\n",
            "\u001b[1m125/125\u001b[0m \u001b[32m━━━━━━━━━━━━━━━━━━━━\u001b[0m\u001b[37m\u001b[0m \u001b[1m81s\u001b[0m 384ms/step - accuracy: 0.8300 - loss: 0.4783 - val_accuracy: 0.8445 - val_loss: 0.4046\n",
            "Epoch 9/20\n",
            "\u001b[1m125/125\u001b[0m \u001b[32m━━━━━━━━━━━━━━━━━━━━\u001b[0m\u001b[37m\u001b[0m \u001b[1m84s\u001b[0m 405ms/step - accuracy: 0.8330 - loss: 0.4573 - val_accuracy: 0.8560 - val_loss: 0.3858\n",
            "Epoch 10/20\n",
            "\u001b[1m125/125\u001b[0m \u001b[32m━━━━━━━━━━━━━━━━━━━━\u001b[0m\u001b[37m\u001b[0m \u001b[1m79s\u001b[0m 381ms/step - accuracy: 0.8536 - loss: 0.4198 - val_accuracy: 0.8580 - val_loss: 0.3819\n",
            "Epoch 11/20\n",
            "\u001b[1m125/125\u001b[0m \u001b[32m━━━━━━━━━━━━━━━━━━━━\u001b[0m\u001b[37m\u001b[0m \u001b[1m48s\u001b[0m 386ms/step - accuracy: 0.8504 - loss: 0.4056 - val_accuracy: 0.8735 - val_loss: 0.3556\n",
            "Epoch 12/20\n",
            "\u001b[1m125/125\u001b[0m \u001b[32m━━━━━━━━━━━━━━━━━━━━\u001b[0m\u001b[37m\u001b[0m \u001b[1m48s\u001b[0m 386ms/step - accuracy: 0.8654 - loss: 0.3866 - val_accuracy: 0.8830 - val_loss: 0.3360\n",
            "Epoch 13/20\n",
            "\u001b[1m125/125\u001b[0m \u001b[32m━━━━━━━━━━━━━━━━━━━━\u001b[0m\u001b[37m\u001b[0m \u001b[1m48s\u001b[0m 382ms/step - accuracy: 0.8662 - loss: 0.3737 - val_accuracy: 0.8785 - val_loss: 0.3245\n",
            "Epoch 14/20\n",
            "\u001b[1m125/125\u001b[0m \u001b[32m━━━━━━━━━━━━━━━━━━━━\u001b[0m\u001b[37m\u001b[0m \u001b[1m82s\u001b[0m 381ms/step - accuracy: 0.8788 - loss: 0.3443 - val_accuracy: 0.8890 - val_loss: 0.3182\n",
            "Epoch 15/20\n",
            "\u001b[1m125/125\u001b[0m \u001b[32m━━━━━━━━━━━━━━━━━━━━\u001b[0m\u001b[37m\u001b[0m \u001b[1m82s\u001b[0m 383ms/step - accuracy: 0.8828 - loss: 0.3355 - val_accuracy: 0.8885 - val_loss: 0.3060\n",
            "Epoch 16/20\n",
            "\u001b[1m125/125\u001b[0m \u001b[32m━━━━━━━━━━━━━━━━━━━━\u001b[0m\u001b[37m\u001b[0m \u001b[1m83s\u001b[0m 390ms/step - accuracy: 0.8815 - loss: 0.3201 - val_accuracy: 0.8840 - val_loss: 0.3166\n",
            "Epoch 17/20\n",
            "\u001b[1m125/125\u001b[0m \u001b[32m━━━━━━━━━━━━━━━━━━━━\u001b[0m\u001b[37m\u001b[0m \u001b[1m83s\u001b[0m 400ms/step - accuracy: 0.8971 - loss: 0.3097 - val_accuracy: 0.8805 - val_loss: 0.3388\n",
            "Epoch 18/20\n",
            "\u001b[1m125/125\u001b[0m \u001b[32m━━━━━━━━━━━━━━━━━━━━\u001b[0m\u001b[37m\u001b[0m \u001b[1m84s\u001b[0m 414ms/step - accuracy: 0.8982 - loss: 0.2984 - val_accuracy: 0.8930 - val_loss: 0.2999\n",
            "Epoch 19/20\n",
            "\u001b[1m125/125\u001b[0m \u001b[32m━━━━━━━━━━━━━━━━━━━━\u001b[0m\u001b[37m\u001b[0m \u001b[1m78s\u001b[0m 380ms/step - accuracy: 0.9067 - loss: 0.2729 - val_accuracy: 0.8915 - val_loss: 0.3214\n",
            "Epoch 20/20\n",
            "\u001b[1m125/125\u001b[0m \u001b[32m━━━━━━━━━━━━━━━━━━━━\u001b[0m\u001b[37m\u001b[0m \u001b[1m48s\u001b[0m 384ms/step - accuracy: 0.9141 - loss: 0.2451 - val_accuracy: 0.9045 - val_loss: 0.2768\n",
            "\u001b[1m63/63\u001b[0m \u001b[32m━━━━━━━━━━━━━━━━━━━━\u001b[0m\u001b[37m\u001b[0m \u001b[1m5s\u001b[0m 71ms/step - accuracy: 0.9064 - loss: 0.2730\n",
            "Test Accuracy: 90.45%\n"
          ]
        }
      ],
      "source": [
        "#with fine tuning\n",
        "import tensorflow as tf\n",
        "from tensorflow.keras.models import Sequential\n",
        "from tensorflow.keras.layers import Dense, Dropout, Embedding, LSTM, GlobalMaxPooling1D, Bidirectional\n",
        "from tensorflow.keras.preprocessing.text import Tokenizer\n",
        "from tensorflow.keras.preprocessing.sequence import pad_sequences\n",
        "from tensorflow.keras.callbacks import EarlyStopping\n",
        "from sklearn.model_selection import train_test_split\n",
        "from sklearn.preprocessing import LabelEncoder\n",
        "\n",
        "# Example dataset with URL text and labels\n",
        "# Assuming 'df' is already defined with 'url' and 'type' columns\n",
        "\n",
        "# Tokenizing the URLs\n",
        "tokenizer = Tokenizer(char_level=True)  # Treat URLs as character-level sequences\n",
        "tokenizer.fit_on_texts(df['url'])\n",
        "\n",
        "# Convert URLs into sequences of integers\n",
        "X = tokenizer.texts_to_sequences(df['url'])\n",
        "max_len = 100  # Maximum length of a URL sequence\n",
        "X = pad_sequences(X, maxlen=max_len)\n",
        "\n",
        "# Label encoding\n",
        "le = LabelEncoder()\n",
        "y = le.fit_transform(df['type'])\n",
        "\n",
        "# Split into training and testing sets\n",
        "X_train, X_test, y_train, y_test = train_test_split(X, y, test_size=0.2, random_state=42)\n",
        "\n",
        "# Build the deep learning model with LSTM\n",
        "model = Sequential()\n",
        "\n",
        "# Embedding layer to learn representations of characters in URLs\n",
        "model.add(Embedding(input_dim=len(tokenizer.word_index) + 1, output_dim=64, input_length=max_len))\n",
        "\n",
        "# Bidirectional LSTM layer to capture sequential patterns in the URLs\n",
        "model.add(Bidirectional(LSTM(128, return_sequences=True)))\n",
        "model.add(GlobalMaxPooling1D())  # Aggregate the most important features\n",
        "\n",
        "# Dense layers for classification\n",
        "model.add(Dense(128, activation='relu'))\n",
        "model.add(Dropout(0.5))\n",
        "model.add(Dense(64, activation='relu'))\n",
        "model.add(Dropout(0.5))\n",
        "\n",
        "# Output layer for multi-class classification (4 classes)\n",
        "model.add(Dense(4, activation='softmax'))\n",
        "\n",
        "# Compile the model with a lower learning rate\n",
        "model.compile(optimizer=tf.keras.optimizers.Adam(learning_rate=0.0005),\n",
        "              loss='sparse_categorical_crossentropy',\n",
        "              metrics=['accuracy'])\n",
        "\n",
        "# Implement early stopping to prevent overfitting\n",
        "early_stopping = EarlyStopping(monitor='val_loss', patience=3, restore_best_weights=True)\n",
        "\n",
        "# Train the model\n",
        "history = model.fit(X_train, y_train, epochs=20, batch_size=64,\n",
        "                    validation_data=(X_test, y_test),\n",
        "                    callbacks=[early_stopping])\n",
        "\n",
        "# Evaluate the model\n",
        "score = model.evaluate(X_test, y_test)\n",
        "print(f\"Test Accuracy: {score[1] * 100:.2f}%\")"
      ]
    },
    {
      "cell_type": "code",
      "execution_count": null,
      "metadata": {
        "colab": {
          "background_save": true,
          "base_uri": "https://localhost:8080/"
        },
        "id": "TtIirQRahq4p",
        "outputId": "94acda4f-510f-46d4-c3e8-cf8940ac1f7a"
      },
      "outputs": [
        {
          "name": "stdout",
          "output_type": "stream",
          "text": [
            "Epoch 1/30\n"
          ]
        },
        {
          "name": "stderr",
          "output_type": "stream",
          "text": [
            "/usr/local/lib/python3.10/dist-packages/keras/src/layers/core/embedding.py:90: UserWarning: Argument `input_length` is deprecated. Just remove it.\n",
            "  warnings.warn(\n"
          ]
        },
        {
          "name": "stdout",
          "output_type": "stream",
          "text": [
            "\u001b[1m250/250\u001b[0m \u001b[32m━━━━━━━━━━━━━━━━━━━━\u001b[0m\u001b[37m\u001b[0m \u001b[1m162s\u001b[0m 630ms/step - accuracy: 0.3017 - loss: 1.3511 - val_accuracy: 0.5485 - val_loss: 0.8797\n",
            "Epoch 2/30\n",
            "\u001b[1m250/250\u001b[0m \u001b[32m━━━━━━━━━━━━━━━━━━━━\u001b[0m\u001b[37m\u001b[0m \u001b[1m158s\u001b[0m 634ms/step - accuracy: 0.5947 - loss: 0.8930 - val_accuracy: 0.6500 - val_loss: 0.7116\n",
            "Epoch 3/30\n",
            "\u001b[1m250/250\u001b[0m \u001b[32m━━━━━━━━━━━━━━━━━━━━\u001b[0m\u001b[37m\u001b[0m \u001b[1m156s\u001b[0m 623ms/step - accuracy: 0.6412 - loss: 0.7766 - val_accuracy: 0.7205 - val_loss: 0.6696\n",
            "Epoch 4/30\n",
            "\u001b[1m250/250\u001b[0m \u001b[32m━━━━━━━━━━━━━━━━━━━━\u001b[0m\u001b[37m\u001b[0m \u001b[1m204s\u001b[0m 631ms/step - accuracy: 0.6824 - loss: 0.7065 - val_accuracy: 0.7655 - val_loss: 0.5903\n",
            "Epoch 5/30\n",
            "\u001b[1m250/250\u001b[0m \u001b[32m━━━━━━━━━━━━━━━━━━━━\u001b[0m\u001b[37m\u001b[0m \u001b[1m201s\u001b[0m 629ms/step - accuracy: 0.7285 - loss: 0.6607 - val_accuracy: 0.7730 - val_loss: 0.5480\n",
            "Epoch 6/30\n",
            "\u001b[1m250/250\u001b[0m \u001b[32m━━━━━━━━━━━━━━━━━━━━\u001b[0m\u001b[37m\u001b[0m \u001b[1m196s\u001b[0m 604ms/step - accuracy: 0.7462 - loss: 0.5970 - val_accuracy: 0.7560 - val_loss: 0.5355\n",
            "Epoch 7/30\n",
            "\u001b[1m250/250\u001b[0m \u001b[32m━━━━━━━━━━━━━━━━━━━━\u001b[0m\u001b[37m\u001b[0m \u001b[1m203s\u001b[0m 608ms/step - accuracy: 0.7500 - loss: 0.5926 - val_accuracy: 0.7860 - val_loss: 0.4948\n",
            "Epoch 8/30\n",
            "\u001b[1m250/250\u001b[0m \u001b[32m━━━━━━━━━━━━━━━━━━━━\u001b[0m\u001b[37m\u001b[0m \u001b[1m198s\u001b[0m 591ms/step - accuracy: 0.7682 - loss: 0.5627 - val_accuracy: 0.7990 - val_loss: 0.5022\n",
            "Epoch 9/30\n",
            "\u001b[1m250/250\u001b[0m \u001b[32m━━━━━━━━━━━━━━━━━━━━\u001b[0m\u001b[37m\u001b[0m \u001b[1m202s\u001b[0m 591ms/step - accuracy: 0.7838 - loss: 0.5367 - val_accuracy: 0.8165 - val_loss: 0.4713\n",
            "Epoch 10/30\n",
            "\u001b[1m250/250\u001b[0m \u001b[32m━━━━━━━━━━━━━━━━━━━━\u001b[0m\u001b[37m\u001b[0m \u001b[1m152s\u001b[0m 608ms/step - accuracy: 0.7835 - loss: 0.5266 - val_accuracy: 0.8180 - val_loss: 0.4484\n",
            "Epoch 11/30\n",
            "\u001b[1m250/250\u001b[0m \u001b[32m━━━━━━━━━━━━━━━━━━━━\u001b[0m\u001b[37m\u001b[0m \u001b[1m150s\u001b[0m 599ms/step - accuracy: 0.7801 - loss: 0.5185 - val_accuracy: 0.8130 - val_loss: 0.4690\n",
            "Epoch 12/30\n",
            "\u001b[1m250/250\u001b[0m \u001b[32m━━━━━━━━━━━━━━━━━━━━\u001b[0m\u001b[37m\u001b[0m \u001b[1m204s\u001b[0m 606ms/step - accuracy: 0.7973 - loss: 0.4971 - val_accuracy: 0.8275 - val_loss: 0.4389\n",
            "Epoch 13/30\n",
            "\u001b[1m250/250\u001b[0m \u001b[32m━━━━━━━━━━━━━━━━━━━━\u001b[0m\u001b[37m\u001b[0m \u001b[1m199s\u001b[0m 595ms/step - accuracy: 0.8081 - loss: 0.4962 - val_accuracy: 0.8355 - val_loss: 0.4229\n",
            "Epoch 14/30\n",
            "\u001b[1m250/250\u001b[0m \u001b[32m━━━━━━━━━━━━━━━━━━━━\u001b[0m\u001b[37m\u001b[0m \u001b[1m151s\u001b[0m 603ms/step - accuracy: 0.8150 - loss: 0.4682 - val_accuracy: 0.8285 - val_loss: 0.4249\n",
            "Epoch 15/30\n",
            "\u001b[1m250/250\u001b[0m \u001b[32m━━━━━━━━━━━━━━━━━━━━\u001b[0m\u001b[37m\u001b[0m \u001b[1m203s\u001b[0m 607ms/step - accuracy: 0.8214 - loss: 0.4549 - val_accuracy: 0.8340 - val_loss: 0.4051\n",
            "Epoch 16/30\n",
            "\u001b[1m250/250\u001b[0m \u001b[32m━━━━━━━━━━━━━━━━━━━━\u001b[0m\u001b[37m\u001b[0m \u001b[1m149s\u001b[0m 597ms/step - accuracy: 0.8254 - loss: 0.4399 - val_accuracy: 0.8450 - val_loss: 0.3967\n",
            "Epoch 17/30\n",
            "\u001b[1m250/250\u001b[0m \u001b[32m━━━━━━━━━━━━━━━━━━━━\u001b[0m\u001b[37m\u001b[0m \u001b[1m151s\u001b[0m 605ms/step - accuracy: 0.8318 - loss: 0.4297 - val_accuracy: 0.8445 - val_loss: 0.3889\n",
            "Epoch 18/30\n",
            "\u001b[1m250/250\u001b[0m \u001b[32m━━━━━━━━━━━━━━━━━━━━\u001b[0m\u001b[37m\u001b[0m \u001b[1m200s\u001b[0m 595ms/step - accuracy: 0.8210 - loss: 0.4368 - val_accuracy: 0.8470 - val_loss: 0.3839\n",
            "Epoch 19/30\n",
            "\u001b[1m250/250\u001b[0m \u001b[32m━━━━━━━━━━━━━━━━━━━━\u001b[0m\u001b[37m\u001b[0m \u001b[1m202s\u001b[0m 597ms/step - accuracy: 0.8443 - loss: 0.4043 - val_accuracy: 0.8405 - val_loss: 0.3866\n",
            "Epoch 20/30\n",
            "\u001b[1m250/250\u001b[0m \u001b[32m━━━━━━━━━━━━━━━━━━━━\u001b[0m\u001b[37m\u001b[0m \u001b[1m203s\u001b[0m 600ms/step - accuracy: 0.8354 - loss: 0.4127 - val_accuracy: 0.8480 - val_loss: 0.3931\n",
            "Epoch 21/30\n",
            "\u001b[1m250/250\u001b[0m \u001b[32m━━━━━━━━━━━━━━━━━━━━\u001b[0m\u001b[37m\u001b[0m \u001b[1m149s\u001b[0m 597ms/step - accuracy: 0.8429 - loss: 0.3985 - val_accuracy: 0.8530 - val_loss: 0.3755\n",
            "Epoch 22/30\n",
            "\u001b[1m250/250\u001b[0m \u001b[32m━━━━━━━━━━━━━━━━━━━━\u001b[0m\u001b[37m\u001b[0m \u001b[1m204s\u001b[0m 604ms/step - accuracy: 0.8338 - loss: 0.4279 - val_accuracy: 0.8510 - val_loss: 0.3734\n",
            "Epoch 23/30\n",
            "\u001b[1m250/250\u001b[0m \u001b[32m━━━━━━━━━━━━━━━━━━━━\u001b[0m\u001b[37m\u001b[0m \u001b[1m150s\u001b[0m 599ms/step - accuracy: 0.8502 - loss: 0.3762 - val_accuracy: 0.8545 - val_loss: 0.3731\n",
            "Epoch 24/30\n",
            "\u001b[1m250/250\u001b[0m \u001b[32m━━━━━━━━━━━━━━━━━━━━\u001b[0m\u001b[37m\u001b[0m \u001b[1m203s\u001b[0m 601ms/step - accuracy: 0.8520 - loss: 0.3880 - val_accuracy: 0.8630 - val_loss: 0.3622\n",
            "Epoch 25/30\n",
            "\u001b[1m250/250\u001b[0m \u001b[32m━━━━━━━━━━━━━━━━━━━━\u001b[0m\u001b[37m\u001b[0m \u001b[1m203s\u001b[0m 606ms/step - accuracy: 0.8585 - loss: 0.3843 - val_accuracy: 0.8425 - val_loss: 0.4122\n",
            "Epoch 26/30\n",
            "\u001b[1m250/250\u001b[0m \u001b[32m━━━━━━━━━━━━━━━━━━━━\u001b[0m\u001b[37m\u001b[0m \u001b[1m199s\u001b[0m 594ms/step - accuracy: 0.8507 - loss: 0.3964 - val_accuracy: 0.8655 - val_loss: 0.3606\n",
            "Epoch 27/30\n",
            "\u001b[1m250/250\u001b[0m \u001b[32m━━━━━━━━━━━━━━━━━━━━\u001b[0m\u001b[37m\u001b[0m \u001b[1m151s\u001b[0m 603ms/step - accuracy: 0.8636 - loss: 0.3622 - val_accuracy: 0.8650 - val_loss: 0.3527\n",
            "Epoch 28/30\n",
            "\u001b[1m250/250\u001b[0m \u001b[32m━━━━━━━━━━━━━━━━━━━━\u001b[0m\u001b[37m\u001b[0m \u001b[1m201s\u001b[0m 602ms/step - accuracy: 0.8669 - loss: 0.3624 - val_accuracy: 0.8655 - val_loss: 0.3609\n",
            "Epoch 29/30\n",
            "\u001b[1m250/250\u001b[0m \u001b[32m━━━━━━━━━━━━━━━━━━━━\u001b[0m\u001b[37m\u001b[0m \u001b[1m199s\u001b[0m 593ms/step - accuracy: 0.8708 - loss: 0.3401 - val_accuracy: 0.8745 - val_loss: 0.3461\n",
            "Epoch 30/30\n",
            "\u001b[1m250/250\u001b[0m \u001b[32m━━━━━━━━━━━━━━━━━━━━\u001b[0m\u001b[37m\u001b[0m \u001b[1m151s\u001b[0m 604ms/step - accuracy: 0.8668 - loss: 0.3571 - val_accuracy: 0.8755 - val_loss: 0.3350\n",
            "\u001b[1m63/63\u001b[0m \u001b[32m━━━━━━━━━━━━━━━━━━━━\u001b[0m\u001b[37m\u001b[0m \u001b[1m9s\u001b[0m 146ms/step - accuracy: 0.8828 - loss: 0.3396\n",
            "Test Accuracy: 87.55%\n"
          ]
        }
      ],
      "source": [
        "import tensorflow as tf\n",
        "from tensorflow.keras.models import Sequential\n",
        "from tensorflow.keras.layers import Dense, Dropout, Embedding, LSTM, GlobalMaxPooling1D, Bidirectional, Conv1D\n",
        "from tensorflow.keras.preprocessing.text import Tokenizer\n",
        "from tensorflow.keras.preprocessing.sequence import pad_sequences\n",
        "from tensorflow.keras.callbacks import EarlyStopping\n",
        "from sklearn.model_selection import train_test_split\n",
        "from sklearn.preprocessing import LabelEncoder\n",
        "\n",
        "# Tokenizing the URLs\n",
        "tokenizer = Tokenizer(char_level=True)\n",
        "tokenizer.fit_on_texts(df['url'])\n",
        "\n",
        "# Convert URLs into sequences of integers\n",
        "X = tokenizer.texts_to_sequences(df['url'])\n",
        "max_len = 100  # Maximum length of a URL sequence\n",
        "X = pad_sequences(X, maxlen=max_len)\n",
        "\n",
        "# Label encoding\n",
        "le = LabelEncoder()\n",
        "y = le.fit_transform(df['type'])\n",
        "\n",
        "# Split into training and testing sets\n",
        "X_train, X_test, y_train, y_test = train_test_split(X, y, test_size=0.2, random_state=42)\n",
        "\n",
        "# Build the deep learning model with LSTM and CNN\n",
        "model = Sequential()\n",
        "\n",
        "# Embedding layer\n",
        "model.add(Embedding(input_dim=len(tokenizer.word_index) + 1, output_dim=128, input_length=max_len))\n",
        "\n",
        "# Convolutional layer for feature extraction\n",
        "model.add(Conv1D(filters=64, kernel_size=5, activation='relu'))\n",
        "model.add(Dropout(0.5))\n",
        "\n",
        "# Bidirectional LSTM layer\n",
        "model.add(Bidirectional(LSTM(256, return_sequences=True)))\n",
        "model.add(GlobalMaxPooling1D())  # Aggregate the most important features\n",
        "\n",
        "# Dense layers for classification\n",
        "model.add(Dense(256, activation='relu'))\n",
        "model.add(Dropout(0.5))\n",
        "model.add(Dense(128, activation='relu'))\n",
        "model.add(Dropout(0.5))\n",
        "\n",
        "# Output layer for multi-class classification (4 classes)\n",
        "model.add(Dense(4, activation='softmax'))\n",
        "\n",
        "# Compile the model with a lower learning rate\n",
        "model.compile(optimizer=tf.keras.optimizers.Adam(learning_rate=0.0001),\n",
        "              loss='sparse_categorical_crossentropy',\n",
        "              metrics=['accuracy'])\n",
        "\n",
        "# Implement early stopping to prevent overfitting\n",
        "early_stopping = EarlyStopping(monitor='val_loss', patience=5, restore_best_weights=True)\n",
        "\n",
        "# Train the model\n",
        "history = model.fit(X_train, y_train, epochs=30, batch_size=32,\n",
        "                    validation_data=(X_test, y_test),\n",
        "                    callbacks=[early_stopping])\n",
        "\n",
        "# Evaluate the model\n",
        "score = model.evaluate(X_test, y_test)\n",
        "print(f\"Test Accuracy: {score[1] * 100:.2f}%\")\n"
      ]
    },
    {
      "cell_type": "code",
      "execution_count": null,
      "metadata": {
        "colab": {
          "base_uri": "https://localhost:8080/",
          "height": 607
        },
        "id": "SNTchdF4RFRz",
        "outputId": "7cf08d78-f7f6-49e4-ecc8-096ea57f31d3"
      },
      "outputs": [
        {
          "data": {
            "image/png": "[encoded data removed]",
            "text/plain": [
              "<Figure size 1200x600 with 2 Axes>"
            ]
          },
          "metadata": {},
          "output_type": "display_data"
        }
      ],
      "source": [
        "import matplotlib.pyplot as plt\n",
        "import seaborn as sns\n",
        "from sklearn.preprocessing import LabelEncoder\n",
        "\n",
        "\n",
        "# Plotting the loss and accuracy graphs after training\n",
        "def plot_training_history(history):\n",
        "    # Accuracy Plot\n",
        "    plt.figure(figsize=(12, 6))\n",
        "    plt.subplot(1, 2, 1)\n",
        "    plt.plot(history.history['accuracy'], label='train_accuracy')\n",
        "    plt.plot(history.history['val_accuracy'], label='val_accuracy')\n",
        "    plt.title('Model Accuracy')\n",
        "    plt.ylabel('Accuracy')\n",
        "    plt.xlabel('Epoch')\n",
        "    plt.legend(loc='lower right')\n",
        "\n",
        "    # Loss Plot\n",
        "    plt.subplot(1, 2, 2)\n",
        "    plt.plot(history.history['loss'], label='train_loss')\n",
        "    plt.plot(history.history['val_loss'], label='val_loss')\n",
        "    plt.title('Model Loss')\n",
        "    plt.ylabel('Loss')\n",
        "    plt.xlabel('Epoch')\n",
        "    plt.legend(loc='upper right')\n",
        "\n",
        "    plt.tight_layout()\n",
        "    plt.show()\n",
        "\n",
        "# Call the function after training the model\n",
        "plot_training_history(history)"
      ]
    },
    {
      "cell_type": "markdown",
      "source": [
        "Both training and validation loss decrease consistently over the epochs, showing that the model is learning effectively and reducing error. The fact that the validation loss continues to decrease without a major gap between the two losses suggests that there isn't significant overfitting.\n",
        "Slight fluctuation in validation loss towards the end is normal but might indicate that the model is reaching its optimal performance, and further training might not result in much improvement."
      ],
      "metadata": {
        "id": "6UvFerzj0gcy"
      }
    }
  ],
  "metadata": {
    "colab": {
      "provenance": []
    },
    "kernelspec": {
      "display_name": "Python 3",
      "name": "python3"
    },
    "language_info": {
      "name": "python"
    }
  },
  "nbformat": 4,
  "nbformat_minor": 0
}